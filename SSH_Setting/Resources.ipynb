{
 "cells": [
  {
   "cell_type": "markdown",
   "metadata": {},
   "source": [
    "[Generate SSh key](https://www.runoob.com/w3cnote/view-ssh-public-key.html)\n",
    "\n",
    "[Add SSH Key to Github](https://ruby-china.org/topics/2423)\n",
    "\n"
   ]
  }
 ],
 "metadata": {
  "language_info": {
   "name": "python"
  },
  "orig_nbformat": 4
 },
 "nbformat": 4,
 "nbformat_minor": 2
}
